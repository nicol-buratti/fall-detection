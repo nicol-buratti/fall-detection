{
 "cells": [
  {
   "cell_type": "code",
   "execution_count": 85,
   "id": "5fef54bf",
   "metadata": {},
   "outputs": [],
   "source": [
    "from pathlib import Path\n",
    "\n",
    "import matplotlib.pyplot as plt\n",
    "import numpy as np\n",
    "import pandas as pd\n",
    "from sklearn.metrics import classification_report\n",
    "from sklearn.model_selection import train_test_split\n",
    "from sklearn.tree import DecisionTreeClassifier, plot_tree\n",
    "from imblearn.over_sampling import SMOTE"
   ]
  },
  {
   "cell_type": "code",
   "execution_count": 86,
   "id": "8c5e4b22",
   "metadata": {},
   "outputs": [],
   "source": [
    "dataset = Path('WEDA-FALL/dataset/50Hz')\n",
    "WINDOW_SIZE = 20"
   ]
  },
  {
   "cell_type": "code",
   "execution_count": 87,
   "id": "44b4eca7",
   "metadata": {},
   "outputs": [],
   "source": [
    "walking_dataset = dataset / 'D01'\n",
    "walking_accel = (f for f in walking_dataset.glob('*_accel.csv') if 'vertical' not in f.name)\n",
    "walking_gyro = walking_dataset.glob('*_gyro.csv')"
   ]
  },
  {
   "cell_type": "code",
   "execution_count": 88,
   "id": "7440fa96",
   "metadata": {},
   "outputs": [],
   "source": [
    "jogging_dataset = dataset / 'D02'\n",
    "jogging_accel = (f for f in jogging_dataset.glob('*_accel.csv') if 'vertical' not in f.name)\n",
    "jogging_gyro = jogging_dataset.glob('*_gyro.csv')"
   ]
  },
  {
   "cell_type": "code",
   "execution_count": 89,
   "id": "700df880",
   "metadata": {},
   "outputs": [],
   "source": [
    "def preprocess_df(df):\n",
    "\tdf['acceleration'] = np.sqrt(\n",
    "\t\tdf['accel_x_list'] ** 2 + df['accel_y_list'] ** 2 + df['accel_z_list'] ** 2\n",
    "\t)\n",
    "\tdf['rotationrate'] = np.sqrt(\n",
    "\t\tdf['gyro_x_list'] ** 2 + df['gyro_y_list'] ** 2 + df['gyro_z_list'] ** 2\n",
    "\t)\n",
    "\n",
    "\tdf['acceleration'] = df['acceleration'].rolling(window=WINDOW_SIZE).mean()\n",
    "\tdf['rotationrate'] = df['rotationrate'].rolling(window=WINDOW_SIZE).mean()\n",
    "\n",
    "\tpitch = np.atan2(\n",
    "\t\t-df['accel_x_list'], np.sqrt(df['accel_y_list'] ** 2 + df['accel_z_list'] ** 2)\n",
    "\t) * (180 / np.pi)\n",
    "\tgyro_integration = df['gyro_y_list'] * (1 / 50)\n",
    "\n",
    "\t# Calculate the recursive component using cumsum\n",
    "\t# This handles: 0.98 * (previous_angle + gyro_term)\n",
    "\trecursive_term = (0.98 * gyro_integration).cumsum()\n",
    "\n",
    "\t# Add the accelerometer correction term\n",
    "\taccel_term = 0.02 * pitch\n",
    "\n",
    "\t# Combine terms (note: first value needs special handling)\n",
    "\tdf['angle_pitch'] = recursive_term + accel_term.cumsum()\n",
    "\n",
    "\tdf = df.filter(\n",
    "\t\titems=['accel_time_list', 'gyro_time_list', 'acceleration', 'rotationrate', 'angle_pitch']\n",
    "\t)\n",
    "\treturn df"
   ]
  },
  {
   "cell_type": "code",
   "execution_count": 90,
   "id": "fba0f2a2",
   "metadata": {},
   "outputs": [],
   "source": [
    "df_list = []\n",
    "for acc, gyro in zip(walking_accel, walking_gyro):\n",
    "\tdf1 = pd.read_csv(acc)\n",
    "\tdf2 = pd.read_csv(gyro)\n",
    "\tdf = pd.concat([df1, df2], axis=1)\n",
    "\tdf = preprocess_df(df).dropna()\n",
    "\tdf['label'] = np.full(len(df), 'walking')\n",
    "\tdf_list.append(df)\n",
    "df_walking = pd.concat(df_list)"
   ]
  },
  {
   "cell_type": "code",
   "execution_count": 91,
   "id": "ff610a64",
   "metadata": {},
   "outputs": [],
   "source": [
    "df_list = []\n",
    "for acc, gyro in zip(jogging_accel, jogging_gyro):\n",
    "\tdf1 = pd.read_csv(acc)\n",
    "\tdf2 = pd.read_csv(gyro)\n",
    "\tdf = pd.concat([df1, df2], axis=1)\n",
    "\tdf = preprocess_df(df).dropna()\n",
    "\tdf['label'] = np.full(len(df), 'jogging')\n",
    "\tdf_list.append(df)\n",
    "df_jogging = pd.concat(df_list)"
   ]
  },
  {
   "cell_type": "code",
   "execution_count": 92,
   "id": "b7a9e882",
   "metadata": {},
   "outputs": [],
   "source": [
    "df_fall = pd.read_csv('fall_data.csv')\n",
    "\n",
    "df = pd.concat([df_walking, df_jogging, df_fall]).reset_index(drop=True)\n",
    "# df = pd.concat([df_walking, df_jogging]).reset_index(drop=True)"
   ]
  },
  {
   "cell_type": "code",
   "execution_count": 93,
   "id": "1074fdde",
   "metadata": {},
   "outputs": [],
   "source": [
    "X = df[['acceleration', 'rotationrate', 'angle_pitch']]\n",
    "y = df['label']\n",
    "X_train, X_test, y_train, y_test = train_test_split(X, y, test_size=0.2, random_state=42)\n",
    "smote = SMOTE(random_state=42)\n",
    "X_train, y_train = smote.fit_resample(X_train, y_train)"
   ]
  },
  {
   "cell_type": "code",
   "execution_count": 94,
   "id": "4fe9939c",
   "metadata": {},
   "outputs": [
    {
     "name": "stdout",
     "output_type": "stream",
     "text": [
      "              precision    recall  f1-score   support\n",
      "\n",
      "        fall       0.58      0.88      0.70      9772\n",
      "     jogging       0.80      0.69      0.74      7363\n",
      "     walking       0.97      0.66      0.78     12224\n",
      "\n",
      "    accuracy                           0.74     29359\n",
      "   macro avg       0.79      0.74      0.74     29359\n",
      "weighted avg       0.80      0.74      0.74     29359\n",
      "\n"
     ]
    }
   ],
   "source": [
    "clf = DecisionTreeClassifier(random_state=42, max_depth=3)\n",
    "clf.fit(X_train, y_train)\n",
    "y_pred = clf.predict(X_test)\n",
    "print(classification_report(y_test, y_pred))"
   ]
  },
  {
   "cell_type": "code",
   "execution_count": 95,
   "id": "b0097aaa",
   "metadata": {},
   "outputs": [],
   "source": [
    "from collections import defaultdict\n",
    "from sklearn.tree import _tree\n",
    "\n",
    "c_features = defaultdict(list)\n",
    "\n",
    "\n",
    "def tree_to_rules(clf, feature_names):\n",
    "\ttree_ = clf.tree_\n",
    "\tfeature_name = [\n",
    "\t\tfeature_names[i] if i != _tree.TREE_UNDEFINED else 'undefined!' for i in tree_.feature\n",
    "\t]\n",
    "\n",
    "\tpaths = []\n",
    "\t# the tuple is min, max\n",
    "\td = defaultdict(lambda: (float('inf'), float('-inf')))\n",
    "\n",
    "\tdef recurse(node, path):\n",
    "\t\tif tree_.feature[node] != _tree.TREE_UNDEFINED:\n",
    "\t\t\tname = feature_name[node]\n",
    "\t\t\tthreshold = tree_.threshold[node]\n",
    "\t\t\tthreshold = float(threshold)\n",
    "\n",
    "\t\t\td_copy = d.copy()\n",
    "\t\t\t# left child\n",
    "\t\t\td[name] = (d_copy[name][0], max(d_copy[name][1], threshold))\n",
    "\t\t\trecurse(tree_.children_left[node], path + [(name, '<=', threshold)])\n",
    "\t\t\t# right child\n",
    "\t\t\td[name] = (min(d_copy[name][0], threshold), d_copy[name][1])\n",
    "\t\t\trecurse(tree_.children_right[node], path + [(name, '>', threshold)])\n",
    "\t\telse:\n",
    "\t\t\t# leaf node\n",
    "\t\t\tvalue = tree_.value[node]\n",
    "\t\t\tclass_id = value.argmax()\n",
    "\t\t\tc_features[class_id].append(d.copy())\n",
    "\t\t\tpaths.append((path, class_id))\n",
    "\n",
    "\trecurse(0, [])\n",
    "\treturn paths\n",
    "\n",
    "\n",
    "# Extract rules\n",
    "rules = tree_to_rules(clf, X.columns)\n",
    "\n",
    "# Convert rules to readable intervals\n",
    "for conditions, class_id in rules:\n",
    "\tcond_str = ', '.join([f'{a} {b} {c:.2f}' for a, b, c in conditions])\n",
    "\t# print(f'Class {class_id} :', cond_str)"
   ]
  },
  {
   "cell_type": "code",
   "execution_count": null,
   "id": "65d00607",
   "metadata": {},
   "outputs": [
    {
     "name": "stdout",
     "output_type": "stream",
     "text": [
      "0\n",
      "( angle_pitch < 356.68 AND acceleration < 11.55 ) OR\n",
      "( 69.68 < angle_pitch < 356.68 AND acceleration < 11.55 ) OR\n",
      "( 69.68 < angle_pitch < 356.68 AND acceleration > 11.55 ) OR\n",
      "( angle_pitch > 356.68 AND 11.55 < acceleration < 16.44 )\n",
      "1\n",
      "( 69.68 < angle_pitch < 356.68 AND acceleration > 11.55 ) OR\n",
      "( angle_pitch > 356.68 AND acceleration > 11.55 )\n",
      "2\n",
      "( 356.68 < angle_pitch < 494.96 AND 11.55 < acceleration < 13.58 ) OR\n",
      "( angle_pitch > 356.68 AND 11.55 < acceleration < 13.58 )\n"
     ]
    }
   ],
   "source": [
    "import math\n",
    "\n",
    "\n",
    "def format_rules(rules_list):\n",
    "\t\"\"\"\n",
    "\tConverts a list of decision tree rule dictionaries into a single\n",
    "\thuman-readable expression.\n",
    "\t\"\"\"\n",
    "\tfinal_expression = []\n",
    "\n",
    "\t# Process each rule dictionary in the list\n",
    "\tfor rule in rules_list:\n",
    "\t\tconditions = []\n",
    "\t\t# Process each feature's condition within the rule\n",
    "\t\tfor feature, (min_val, max_val) in rule.items():\n",
    "\t\t\t# Clean up the representation of infinity for display\n",
    "\t\t\tmin_disp = round(min_val, 2) if min_val != math.inf else -math.inf\n",
    "\t\t\tmax_disp = round(max_val, 2) if max_val != -math.inf else math.inf\n",
    "\n",
    "\t\t\tif min_disp == -math.inf and max_disp == math.inf:\n",
    "\t\t\t\tcontinue  # This condition is always true, so we can ignore it\n",
    "\t\t\telif min_disp == -math.inf:\n",
    "\t\t\t\tconditions.append(f'{feature} < {max_disp}')\n",
    "\t\t\telif max_disp == math.inf:\n",
    "\t\t\t\tconditions.append(f'{feature} > {min_disp}')\n",
    "\t\t\telse:\n",
    "\t\t\t\tconditions.append(f'{min_disp} < {feature} < {max_disp}')\n",
    "\n",
    "\t\t# Join the conditions for a single rule with \"AND\"\n",
    "\t\tif conditions:\n",
    "\t\t\tfinal_expression.append(f'( {\" AND \".join(conditions)} )')\n",
    "\n",
    "\t# Join all the individual rule expressions with \"OR\"\n",
    "\treturn ' OR\\n'.join(final_expression)\n",
    "\n",
    "\n",
    "# Generate and print the single expression\n",
    "for i, rule in c_features.items():\n",
    "\tprint(i)\n",
    "\texpression = format_rules(rule)\n",
    "\tprint(expression)"
   ]
  }
 ],
 "metadata": {
  "kernelspec": {
   "display_name": "fall-detection",
   "language": "python",
   "name": "python3"
  },
  "language_info": {
   "codemirror_mode": {
    "name": "ipython",
    "version": 3
   },
   "file_extension": ".py",
   "mimetype": "text/x-python",
   "name": "python",
   "nbconvert_exporter": "python",
   "pygments_lexer": "ipython3",
   "version": "3.12.10"
  }
 },
 "nbformat": 4,
 "nbformat_minor": 5
}
