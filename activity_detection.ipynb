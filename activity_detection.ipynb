{
 "cells": [
  {
   "cell_type": "code",
   "execution_count": 214,
   "id": "5fef54bf",
   "metadata": {},
   "outputs": [],
   "source": [
    "from collections import defaultdict\n",
    "from pathlib import Path\n",
    "\n",
    "import matplotlib.pyplot as plt\n",
    "import numpy as np\n",
    "import pandas as pd\n",
    "from imblearn.over_sampling import SMOTE\n",
    "from sklearn.metrics import classification_report\n",
    "from sklearn.model_selection import train_test_split\n",
    "from sklearn.tree import DecisionTreeClassifier, _tree, plot_tree"
   ]
  },
  {
   "cell_type": "code",
   "execution_count": 215,
   "id": "8c5e4b22",
   "metadata": {},
   "outputs": [],
   "source": [
    "dataset = Path('WEDA-FALL/dataset/50Hz')\n",
    "WINDOW_SIZE = 20"
   ]
  },
  {
   "cell_type": "code",
   "execution_count": 216,
   "id": "44b4eca7",
   "metadata": {},
   "outputs": [],
   "source": [
    "walking_dataset = dataset / 'D01'\n",
    "walking_accel = (f for f in walking_dataset.glob('*_accel.csv') if 'vertical' not in f.name)\n",
    "walking_gyro = walking_dataset.glob('*_gyro.csv')"
   ]
  },
  {
   "cell_type": "code",
   "execution_count": 217,
   "id": "7440fa96",
   "metadata": {},
   "outputs": [],
   "source": [
    "jogging_dataset = dataset / 'D02'\n",
    "jogging_accel = (f for f in jogging_dataset.glob('*_accel.csv') if 'vertical' not in f.name)\n",
    "jogging_gyro = jogging_dataset.glob('*_gyro.csv')"
   ]
  },
  {
   "cell_type": "code",
   "execution_count": 218,
   "id": "700df880",
   "metadata": {},
   "outputs": [],
   "source": [
    "def preprocess_df(df):\n",
    "\tdf['acceleration'] = np.sqrt(\n",
    "\t\tdf['accel_x_list'] ** 2 + df['accel_y_list'] ** 2 + df['accel_z_list'] ** 2\n",
    "\t)\n",
    "\tdf['rotationrate'] = np.sqrt(\n",
    "\t\tdf['gyro_x_list'] ** 2 + df['gyro_y_list'] ** 2 + df['gyro_z_list'] ** 2\n",
    "\t)\n",
    "\n",
    "\tdf['acceleration'] = df['acceleration'].rolling(window=WINDOW_SIZE).mean()\n",
    "\tdf['rotationrate'] = df['rotationrate'].rolling(window=WINDOW_SIZE).mean()\n",
    "\n",
    "\tpitch = np.atan2(\n",
    "\t\t-df['accel_x_list'], np.sqrt(df['accel_y_list'] ** 2 + df['accel_z_list'] ** 2)\n",
    "\t) * (180 / np.pi)\n",
    "\tgyro_integration = df['gyro_y_list'] * (1 / 50)\n",
    "\n",
    "\t# Calculate the recursive component using cumsum\n",
    "\t# This handles: 0.98 * (previous_angle + gyro_term)\n",
    "\trecursive_term = (0.98 * gyro_integration).cumsum()\n",
    "\n",
    "\t# Add the accelerometer correction term\n",
    "\taccel_term = 0.02 * pitch\n",
    "\n",
    "\t# Combine terms (note: first value needs special handling)\n",
    "\tdf['angle_pitch'] = recursive_term + accel_term.cumsum()\n",
    "\n",
    "\tdf = df.filter(\n",
    "\t\titems=['accel_time_list', 'gyro_time_list', 'acceleration', 'rotationrate', 'angle_pitch']\n",
    "\t)\n",
    "\treturn df"
   ]
  },
  {
   "cell_type": "code",
   "execution_count": 219,
   "id": "fba0f2a2",
   "metadata": {},
   "outputs": [],
   "source": [
    "df_list = []\n",
    "for acc, gyro in zip(walking_accel, walking_gyro):\n",
    "\tdf1 = pd.read_csv(acc)\n",
    "\tdf2 = pd.read_csv(gyro)\n",
    "\tdf = pd.concat([df1, df2], axis=1)\n",
    "\tdf = preprocess_df(df).dropna()\n",
    "\tdf['label'] = np.full(len(df), 'walking')\n",
    "\tdf_list.append(df)\n",
    "df_walking = pd.concat(df_list)"
   ]
  },
  {
   "cell_type": "code",
   "execution_count": 220,
   "id": "ff610a64",
   "metadata": {},
   "outputs": [],
   "source": [
    "df_list = []\n",
    "for acc, gyro in zip(jogging_accel, jogging_gyro):\n",
    "\tdf1 = pd.read_csv(acc)\n",
    "\tdf2 = pd.read_csv(gyro)\n",
    "\tdf = pd.concat([df1, df2], axis=1)\n",
    "\tdf = preprocess_df(df).dropna()\n",
    "\tdf['label'] = np.full(len(df), 'jogging')\n",
    "\tdf_list.append(df)\n",
    "df_jogging = pd.concat(df_list)"
   ]
  },
  {
   "cell_type": "code",
   "execution_count": 221,
   "id": "b7a9e882",
   "metadata": {},
   "outputs": [],
   "source": [
    "df_fall = pd.read_csv('fall_data.csv')\n",
    "\n",
    "df = pd.concat([df_walking, df_jogging, df_fall]).reset_index(drop=True)\n",
    "# df = pd.concat([df_walking, df_jogging]).reset_index(drop=True)"
   ]
  },
  {
   "cell_type": "code",
   "execution_count": 222,
   "id": "1074fdde",
   "metadata": {},
   "outputs": [],
   "source": [
    "X = df[['acceleration', 'rotationrate', 'angle_pitch']]\n",
    "y = df['label']\n",
    "X_train, X_test, y_train, y_test = train_test_split(X, y, test_size=0.2, random_state=42)\n",
    "smote = SMOTE(random_state=42)\n",
    "X_train, y_train = smote.fit_resample(X_train, y_train)"
   ]
  },
  {
   "cell_type": "code",
   "execution_count": 223,
   "id": "4fe9939c",
   "metadata": {},
   "outputs": [
    {
     "name": "stdout",
     "output_type": "stream",
     "text": [
      "              precision    recall  f1-score   support\n",
      "\n",
      "        fall       0.58      0.88      0.70      9772\n",
      "     jogging       0.80      0.69      0.74      7363\n",
      "     walking       0.97      0.66      0.78     12224\n",
      "\n",
      "    accuracy                           0.74     29359\n",
      "   macro avg       0.79      0.74      0.74     29359\n",
      "weighted avg       0.80      0.74      0.74     29359\n",
      "\n"
     ]
    }
   ],
   "source": [
    "clf = DecisionTreeClassifier(random_state=42, max_depth=3)\n",
    "clf.fit(X_train, y_train)\n",
    "y_pred = clf.predict(X_test)\n",
    "print(classification_report(y_test, y_pred))"
   ]
  },
  {
   "cell_type": "code",
   "execution_count": 224,
   "id": "484777af",
   "metadata": {},
   "outputs": [],
   "source": [
    "c_features = defaultdict(list)\n",
    "\n",
    "\n",
    "def tree_to_rules(clf, feature_names):\n",
    "\ttree_ = clf.tree_\n",
    "\tfeature_name = [\n",
    "\t\tfeature_names[i] if i != _tree.TREE_UNDEFINED else 'undefined!' for i in tree_.feature\n",
    "\t]\n",
    "\n",
    "\t# The tuple is min, max\n",
    "\td = defaultdict(lambda: (float('-inf'), float('inf')))\n",
    "\n",
    "\tdef recurse(node, d):\n",
    "\t\tif tree_.feature[node] != _tree.TREE_UNDEFINED:\n",
    "\t\t\tname = feature_name[node]\n",
    "\t\t\tthreshold = tree_.threshold[node]\n",
    "\t\t\tthreshold = float(threshold)\n",
    "\n",
    "\t\t\td_copy = d.copy()\n",
    "\n",
    "\t\t\t# Left child\n",
    "\t\t\t# The new upper bound for the feature is the threshold\n",
    "\t\t\td[name] = (d_copy[name][0], threshold)\n",
    "\t\t\trecurse(tree_.children_left[node], d)\n",
    "\n",
    "\t\t\t# Right child\n",
    "\t\t\t# The new lower bound for the feature is the threshold\n",
    "\t\t\td[name] = (threshold, d_copy[name][1])\n",
    "\t\t\trecurse(tree_.children_right[node], d)\n",
    "\t\telse:\n",
    "\t\t\t# Leaf node\n",
    "\t\t\tvalue = tree_.value[node]\n",
    "\t\t\tclass_id = value.argmax()\n",
    "\t\t\tc_features[class_id].append(d.copy())\n",
    "\n",
    "\trecurse(0, d)\n",
    "\n",
    "\n",
    "# Extract rules\n",
    "tree_to_rules(clf, X.columns)"
   ]
  },
  {
   "cell_type": "code",
   "execution_count": 225,
   "id": "65d00607",
   "metadata": {},
   "outputs": [],
   "source": [
    "import math\n",
    "\n",
    "\n",
    "def format_rules(class_rules):\n",
    "\trule_strings = []\n",
    "\tfor rule in class_rules:\n",
    "\t\tconditions = []\n",
    "\t\tfor feature, (min_val, max_val) in rule.items():\n",
    "\t\t\t# Check for lower bound condition\n",
    "\t\t\tif min_val > -math.inf:\n",
    "\t\t\t\tconditions.append(f'{feature} > {min_val:.2f}')\n",
    "\n",
    "\t\t\t# Check for upper bound condition\n",
    "\t\t\tif max_val < math.inf:\n",
    "\t\t\t\tconditions.append(f'{feature} <= {max_val:.2f}')\n",
    "\n",
    "\t\t# Join all conditions for a single rule with \" and \"\n",
    "\t\tif conditions:\n",
    "\t\t\trule_strings.append(' and '.join(conditions))\n",
    "\treturn rule_strings"
   ]
  },
  {
   "cell_type": "code",
   "execution_count": 226,
   "id": "51204c12",
   "metadata": {},
   "outputs": [
    {
     "name": "stdout",
     "output_type": "stream",
     "text": [
      "Rules for class 0:\n",
      "  - angle_pitch <= 69.68 and acceleration <= 11.55\n",
      "  - angle_pitch > 69.68 and angle_pitch <= 356.68 and acceleration <= 11.55\n",
      "  - angle_pitch > 176.68 and angle_pitch <= 356.68 and acceleration > 11.55\n",
      "  - angle_pitch > 494.96 and acceleration > 13.58 and acceleration <= 16.44\n",
      "\n",
      "Rules for class 1:\n",
      "  - angle_pitch > 69.68 and angle_pitch <= 176.68 and acceleration > 11.55\n",
      "  - angle_pitch > 494.96 and acceleration > 16.44\n",
      "\n",
      "Rules for class 2:\n",
      "  - angle_pitch > 356.68 and angle_pitch <= 494.96 and acceleration > 11.55 and acceleration <= 13.58\n",
      "  - angle_pitch > 494.96 and acceleration > 11.55 and acceleration <= 13.58\n",
      "\n"
     ]
    }
   ],
   "source": [
    "for class_id, rules in c_features.items():\n",
    "\tprint(f'Rules for class {class_id}:')\n",
    "\tformatted = format_rules(rules)\n",
    "\tfor rule_string in formatted:\n",
    "\t\tprint(f'  - {rule_string}')\n",
    "\tprint()"
   ]
  }
 ],
 "metadata": {
  "kernelspec": {
   "display_name": "fall-detection",
   "language": "python",
   "name": "python3"
  },
  "language_info": {
   "codemirror_mode": {
    "name": "ipython",
    "version": 3
   },
   "file_extension": ".py",
   "mimetype": "text/x-python",
   "name": "python",
   "nbconvert_exporter": "python",
   "pygments_lexer": "ipython3",
   "version": "3.12.10"
  }
 },
 "nbformat": 4,
 "nbformat_minor": 5
}
